{
 "cells": [
  {
   "cell_type": "markdown",
   "metadata": {},
   "source": [
    "# Part 1: Determining how many people will eat turkey"
   ]
  },
  {
   "cell_type": "code",
   "execution_count": 83,
   "metadata": {},
   "outputs": [
    {
     "name": "stdout",
     "output_type": "stream",
     "text": [
      "['Person\\tVegetarian\\n', 'Fred\\tNo\\n', 'Jamie\\tNo\\n', 'Shelly\\tYes\\n', 'Eileen\\tNo\\n', 'Willard\\tYes\\n', 'Mike\\tSometimes\\n', 'Anna\\tNo\\n', 'Marie\\tYes\\n', 'Marian\\tSometimes\\n', 'Jessica\\tNo\\n', 'Alan\\tNo\\n', 'Rebecca\\tNo\\n', 'Bonnie\\tNo\\n', 'Mark\\tNo\\n', 'Leslie\\tYes\\n', 'Rachel\\tNo\\n', 'Olivia\\tNo\\n', 'Chelsea\\tNo\\n']\n"
     ]
    }
   ],
   "source": [
    "#First read in the file\n",
    "filename = 'guest_list.txt'\n",
    "with open(filename) as file_object:\n",
    "    contents=file_object.readlines()\n",
    "print(contents)"
   ]
  },
  {
   "cell_type": "code",
   "execution_count": 16,
   "metadata": {},
   "outputs": [
    {
     "name": "stdout",
     "output_type": "stream",
     "text": [
      "Person\tVegetarian\n",
      "Fred\tNo\n",
      "Jamie\tNo\n",
      "Shelly\tYes\n",
      "Eileen\tNo\n",
      "Willard\tYes\n",
      "Mike\tSometimes\n",
      "Anna\tNo\n",
      "Marie\tYes\n",
      "Marian\tSometimes\n",
      "Jessica\tNo\n",
      "Alan\tNo\n",
      "Rebecca\tNo\n",
      "Bonnie\tNo\n",
      "Mark\tNo\n",
      "Leslie\tYes\n",
      "Rachel\tNo\n",
      "Olivia\tNo\n",
      "Chelsea\tNo\n"
     ]
    }
   ],
   "source": [
    "#strip white space\n",
    "for person in contents:\n",
    "    print(person.rstrip())"
   ]
  },
  {
   "cell_type": "code",
   "execution_count": 19,
   "metadata": {},
   "outputs": [
    {
     "name": "stdout",
     "output_type": "stream",
     "text": [
      "['Person', 'Fred', 'Jamie', 'Shelly', 'Eileen', 'Willard', 'Mike', 'Anna', 'Marie', 'Marian', 'Jessica', 'Alan', 'Rebecca', 'Bonnie', 'Mark', 'Leslie', 'Rachel', 'Olivia', 'Chelsea']\n",
      "['Vegetarian', 'No', 'No', 'Yes', 'No', 'Yes', 'Sometimes', 'No', 'Yes', 'Sometimes', 'No', 'No', 'No', 'No', 'No', 'Yes', 'No', 'No', 'No']\n"
     ]
    }
   ],
   "source": [
    "#make two empty lists, one for names and one for veg or not\n",
    "person_name=[]\n",
    "vegetarian_option=[]\n",
    "\n",
    "#split the columns into two lists: rstrip is strip off white space, then split string on tab character\n",
    "#then append the split columns to the two empty lists\n",
    "for person in contents:\n",
    "    stripped_person=person.rstrip()\n",
    "    split_person=stripped_person.split('\\t')\n",
    "    person_name.append(split_person[0])\n",
    "    vegetarian_option.append(split_person[1])\n",
    "    \n",
    "print(person_name)\n",
    "print(vegetarian_option)\n",
    "    "
   ]
  },
  {
   "cell_type": "code",
   "execution_count": 23,
   "metadata": {},
   "outputs": [
    {
     "name": "stdout",
     "output_type": "stream",
     "text": [
      "There are 14 people eating turkey\n"
     ]
    }
   ],
   "source": [
    "#now lets see how many people are eating turkey\n",
    "#make a new list\n",
    "eating_turkey=[]\n",
    "\n",
    "#use a for loop and if/or conditionals to get how many people are eating turkey\n",
    "for veg in vegetarian_option:\n",
    "    if veg=='No'or veg=='Sometimes':\n",
    "        eating_turkey.append(veg)\n",
    "len(eating_turkey)\n",
    "max=len(eating_turkey)\n",
    "print(\"There are\", max, \"people eating turkey\")"
   ]
  },
  {
   "cell_type": "markdown",
   "metadata": {},
   "source": [
    "# Part 2: Do we need a big boi turkey or a lil' guy"
   ]
  },
  {
   "cell_type": "code",
   "execution_count": 24,
   "metadata": {},
   "outputs": [
    {
     "name": "stdout",
     "output_type": "stream",
     "text": [
      "['Max_Guests\\tMin_Pounds\\n', '4\\t5\\n', '6\\t8\\n', '8\\t10\\n', '10\\t13\\n', '12\\t15\\n', '15\\t20\\n', '20\\t25\\n']\n"
     ]
    }
   ],
   "source": [
    "#read in file name\n",
    "filename = 'turkey_size.txt'\n",
    "with open(filename) as file_object:\n",
    "    contents=file_object.readlines()\n",
    "print(contents)"
   ]
  },
  {
   "cell_type": "code",
   "execution_count": 26,
   "metadata": {},
   "outputs": [
    {
     "name": "stdout",
     "output_type": "stream",
     "text": [
      "Max_Guests\tMin_Pounds\n",
      "4\t5\n",
      "6\t8\n",
      "8\t10\n",
      "10\t13\n",
      "12\t15\n",
      "15\t20\n",
      "20\t25\n"
     ]
    }
   ],
   "source": [
    "#strip white space\n",
    "for guest in contents:\n",
    "    print(guest.rstrip())"
   ]
  },
  {
   "cell_type": "code",
   "execution_count": 53,
   "metadata": {},
   "outputs": [
    {
     "name": "stdout",
     "output_type": "stream",
     "text": [
      "['Max_Guests', '4', '6', '8', '10', '12', '15', '20']\n",
      "['Min_Pounds', '5', '8', '10', '13', '15', '20', '25']\n"
     ]
    }
   ],
   "source": [
    "#make two empty lists, one for names and one for veg or not\n",
    "max_guests=[]\n",
    "min_pounds=[]\n",
    "\n",
    "#split the columns into two lists: rstrip is strip off white space, then split string on tab character\n",
    "#then append the split columns to the two empty lists\n",
    "for guest in contents:\n",
    "    stripped_guest=guest.rstrip()\n",
    "    split_guest=stripped_guest.split('\\t')\n",
    "    max_guests.append(split_guest[0])\n",
    "    min_pounds.append(split_guest[1])\n",
    "    \n",
    "print(max_guests)\n",
    "print(min_pounds)"
   ]
  },
  {
   "cell_type": "code",
   "execution_count": 54,
   "metadata": {},
   "outputs": [
    {
     "name": "stdout",
     "output_type": "stream",
     "text": [
      "['4', '6', '8', '10', '12', '15', '20']\n",
      "['5', '8', '10', '13', '15', '20', '25']\n"
     ]
    }
   ],
   "source": [
    "#have to pop off the first index of the lists becasue the loop does not like that they are not integers\n",
    "max_guests.pop(0)\n",
    "print(max_guests)\n",
    "min_pounds.pop(0)\n",
    "print(min_pounds)"
   ]
  },
  {
   "cell_type": "code",
   "execution_count": 79,
   "metadata": {},
   "outputs": [
    {
     "name": "stdout",
     "output_type": "stream",
     "text": [
      "We need a 20 pound turkey\n"
     ]
    }
   ],
   "source": [
    "turkey_size=[]\n",
    "\n",
    "for index in range(0, len(min_pounds)):\n",
    "    \n",
    "    if int(max_guests[index]) > max:\n",
    "        turkey_size.append(min_pounds[index])\n",
    "print(\"We need a\", turkey_size[0], \"pound turkey\")"
   ]
  },
  {
   "cell_type": "markdown",
   "metadata": {},
   "source": [
    "# Part 3: Deal with turds that don't RSVP on time"
   ]
  },
  {
   "cell_type": "code",
   "execution_count": 86,
   "metadata": {},
   "outputs": [
    {
     "name": "stdout",
     "output_type": "stream",
     "text": [
      "['Person\\tVegetarian\\n', 'Fred\\tNo\\n', 'Jamie\\tNo\\n', 'Shelly\\tYes\\n', 'Eileen\\tNo\\n', 'Willard\\tYes\\n', 'Mike\\tSometimes\\n', 'Anna\\tNo\\n', 'Marie\\tYes\\n', 'Marian\\tSometimes\\n', 'Jessica\\tNo\\n', 'Alan\\tNo\\n', 'Rebecca\\tNo\\n', 'Bonnie\\tNo\\n', 'Mark\\tNo\\n', 'Leslie\\tYes\\n', 'Rachel\\tNo\\n', 'Olivia\\tNo\\n', 'Chelsea\\tNo\\n', 'Larry\\tNo\\n', 'Moe\\tYes\\n', 'Curly\\tSometimes\\n', 'Larry\\tNo\\n', 'Moe\\tYes\\n', 'Curly\\tSometimes\\n']\n"
     ]
    }
   ],
   "source": [
    "#append the late comers and their preferences to the guest list file \n",
    "guests=open(filename,'a')\n",
    "late_guests=['Larry\\tNo\\n','Moe\\tYes\\n','Curly\\tSometimes\\n']\n",
    "guests.writelines(late_guests)\n",
    "\n",
    "with open(filename) as file_object:\n",
    "    contents=file_object.readlines()\n",
    "    \n",
    "print(contents)"
   ]
  },
  {
   "cell_type": "code",
   "execution_count": 91,
   "metadata": {},
   "outputs": [
    {
     "name": "stdout",
     "output_type": "stream",
     "text": [
      "There are 18 people eating turkey\n"
     ]
    }
   ],
   "source": [
    "#re-count how many people will eat turkey \n",
    "person_name=[]\n",
    "vegetarian_option=[]\n",
    "\n",
    "for person in contents:\n",
    "    stripped_person=person.rstrip()\n",
    "    split_person=stripped_person.split('\\t')\n",
    "    person_name.append(split_person[0])\n",
    "    vegetarian_option.append(split_person[1])\n",
    "\n",
    "eating_turkey=[]\n",
    "\n",
    "for veg in vegetarian_option:\n",
    "    if veg=='No'or veg=='Sometimes':\n",
    "        eating_turkey.append(veg)\n",
    "len(eating_turkey)\n",
    "max=len(eating_turkey)\n",
    "print(\"There are\", max, \"people eating turkey\")"
   ]
  },
  {
   "cell_type": "code",
   "execution_count": 92,
   "metadata": {},
   "outputs": [
    {
     "name": "stdout",
     "output_type": "stream",
     "text": [
      "We need a 25 pound turkey\n"
     ]
    }
   ],
   "source": [
    "#re-determine what size turkey is needed\n",
    "turkey_size=[]\n",
    "\n",
    "for index in range(0, len(min_pounds)):\n",
    "    \n",
    "    if int(max_guests[index]) > max:\n",
    "        turkey_size.append(min_pounds[index])\n",
    "print(\"We need a\", turkey_size[0], \"pound turkey\")\n"
   ]
  }
 ],
 "metadata": {
  "kernelspec": {
   "display_name": "Python 3",
   "language": "python",
   "name": "python3"
  },
  "language_info": {
   "codemirror_mode": {
    "name": "ipython",
    "version": 3
   },
   "file_extension": ".py",
   "mimetype": "text/x-python",
   "name": "python",
   "nbconvert_exporter": "python",
   "pygments_lexer": "ipython3",
   "version": "3.8.3"
  }
 },
 "nbformat": 4,
 "nbformat_minor": 4
}
